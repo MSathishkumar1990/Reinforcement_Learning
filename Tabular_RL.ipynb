{
 "cells": [
  {
   "cell_type": "markdown",
   "id": "0b9a643f",
   "metadata": {},
   "source": [
    "# REINFORCEMENT LEARNING\n",
    "\n",
    "### Author: Hyungjoo Kim\n",
    "\n",
    "##### All data was provided by University College London, Department of Computer Science, Reinforcement Learning Module\n",
    "\n",
    "##### Supervisor: Prof. Hado Van Hasselt, Matteo Hessel, and Diana Borsa"
   ]
  },
  {
   "cell_type": "markdown",
   "id": "9402a063",
   "metadata": {},
   "source": [
    "**Context**\n",
    "\n",
    "In this assignment, we will take a first look at learning algorithms for sequential decision problems.\n",
    "\n",
    "**Background reading**\n",
    "\n",
    "* Sutton and Barto (2018), Chapters 3 - 6"
   ]
  },
  {
   "cell_type": "markdown",
   "id": "1d5308e2",
   "metadata": {},
   "source": [
    "**Overview of this assignment**\n",
    "\n",
    "You will use Python to implement several reinforcement learning algorithms.\n",
    "\n",
    "You will then run these algorithms on a few problems, to understand their properties."
   ]
  },
  {
   "cell_type": "markdown",
   "id": "bf998e79",
   "metadata": {},
   "source": [
    "# Setup\n",
    "\n",
    "### Import Useful Libraries"
   ]
  },
  {
   "cell_type": "code",
   "execution_count": 12,
   "id": "ff90b7ef",
   "metadata": {},
   "outputs": [],
   "source": [
    "import matplotlib.collections as mcoll\n",
    "import matplotlib.path as mpa\n",
    "import matplotlib.pyplot as plt\n",
    "import numpy as np\n",
    "from collections import namedtuple"
   ]
  },
  {
   "cell_type": "markdown",
   "id": "13995298",
   "metadata": {},
   "source": [
    "### Set options"
   ]
  },
  {
   "cell_type": "code",
   "execution_count": 13,
   "id": "53d3023e",
   "metadata": {},
   "outputs": [],
   "source": [
    "np.set_printoptions(precision=3, suppress=1)\n",
    "plt.style.use('seaborn-colorblind')"
   ]
  },
  {
   "cell_type": "markdown",
   "id": "3318945c",
   "metadata": {},
   "source": [
    "### Some grid worlds"
   ]
  },
  {
   "cell_type": "code",
   "execution_count": 21,
   "id": "bb0b3e29",
   "metadata": {},
   "outputs": [],
   "source": [
    "W = -100  # wall\n",
    "G = 100  # goal\n",
    "\n",
    "GRID_LAYOUT = np.array([\n",
    "  [W, W, W, W, W, W, W, W, W, W, W, W],\n",
    "  [W, W, 0, W, W, W, W, W, W, 0, W, W],\n",
    "  [W, 0, 0, 0, 0, 0, 0, 0, 0, G, 0, W],\n",
    "  [W, 0, 0, 0, W, W, W, W, 0, 0, 0, W],\n",
    "  [W, 0, 0, 0, W, W, W, W, 0, 0, 0, W],\n",
    "  [W, 0, 0, 0, 0, 0, 0, 0, 0, 0, 0, W],\n",
    "  [W, 0, 0, 0, 0, 0, 0, 0, 0, 0, 0, W],\n",
    "  [W, W, 0, 0, 0, 0, 0, 0, 0, 0, W, W],\n",
    "  [W, W, W, W, W, W, W, W, W, W, W, W]\n",
    "])\n",
    "\n",
    "class Grid(object):\n",
    "\n",
    "  def __init__(self, noisy=False):\n",
    "    # -1: wall\n",
    "    # 0: empty, episode continues\n",
    "    # other: number indicates reward, episode will terminate\n",
    "    self._layout = GRID_LAYOUT\n",
    "    self._start_state = (2, 2)\n",
    "    self._state = self._start_state\n",
    "    self._number_of_states = np.prod(np.shape(self._layout))\n",
    "    self._noisy = noisy\n",
    "\n",
    "  @property\n",
    "  def number_of_states(self):\n",
    "      return self._number_of_states\n",
    "\n",
    "  def get_obs(self):\n",
    "    y, x = self._state\n",
    "    return y*self._layout.shape[1] + x\n",
    "\n",
    "  def obs_to_state(self, obs):\n",
    "    x = obs % self._layout.shape[1]\n",
    "    y = obs // self._layout.shape[1]\n",
    "    s = np.copy(grid._layout)\n",
    "    s[y, x] = 4\n",
    "    return s\n",
    "\n",
    "  def step(self, action):\n",
    "    y, x = self._state\n",
    "    \n",
    "    if action == 0:  # up\n",
    "      new_state = (y - 1, x)\n",
    "    elif action == 1:  # right\n",
    "      new_state = (y, x + 1)\n",
    "    elif action == 2:  # down\n",
    "      new_state = (y + 1, x)\n",
    "    elif action == 3:  # left\n",
    "      new_state = (y, x - 1)\n",
    "    else:\n",
    "      raise ValueError(\"Invalid action: {} is not 0, 1, 2, or 3.\".format(action))\n",
    "\n",
    "    new_y, new_x = new_state\n",
    "    reward = self._layout[new_y, new_x]\n",
    "    if self._layout[new_y, new_x] == W:  # wall\n",
    "      discount = 0.9\n",
    "      new_state = (y, x)\n",
    "    elif self._layout[new_y, new_x] == 0:  # empty cell\n",
    "      reward = -1.\n",
    "      discount = 0.9\n",
    "    else:  # a goal\n",
    "      discount = 0.\n",
    "      new_state = self._start_state\n",
    "\n",
    "    if self._noisy:\n",
    "      width = self._layout.shape[1]\n",
    "      reward += 10*np.random.normal(0, width - new_x + new_y)\n",
    "\n",
    "    self._state = new_state\n",
    "    return reward, discount, self.get_obs()\n",
    "\n",
    "  def plot_grid(self):\n",
    "    plt.figure(figsize=(4, 4))\n",
    "    plt.imshow(self._layout != W, interpolation=\"nearest\", cmap='pink')\n",
    "    plt.gca().grid(0)\n",
    "    plt.xticks([])\n",
    "    plt.yticks([])\n",
    "    plt.title(\"The grid\")\n",
    "    plt.text(2, 2, r\"$\\mathbf{S}$\", ha='center', va='center')\n",
    "    plt.text(9, 2, r\"$\\mathbf{G}$\", ha='center', va='center')\n",
    "    h, w = self._layout.shape\n",
    "    for y in range(h-1):\n",
    "      plt.plot([-0.5, w-0.5], [y+0.5, y+0.5], '-k', lw=2)\n",
    "    for x in range(w-1):\n",
    "      plt.plot([x+0.5, x+0.5], [-0.5, h-0.5], '-k', lw=2)"
   ]
  },
  {
   "cell_type": "code",
   "execution_count": 22,
   "id": "d01d95d4",
   "metadata": {},
   "outputs": [],
   "source": [
    "SMALL_GRID_LAYOUT = np.array([\n",
    "  [W, W, W, W, W],\n",
    "  [W, W, 3, W, W],\n",
    "  [W, W, 0, W, W],\n",
    "  [W, 1, 0, W, W],\n",
    "  [W, W, 0, W, W],\n",
    "  [W, W, 0, 4, W],\n",
    "  [W, W, W, W, W]\n",
    "])\n",
    "\n",
    "\n",
    "def plot_small_grid(version=1):\n",
    "  plt.imshow(SMALL_GRID_LAYOUT < -1, interpolation='nearest', cmap='pink_r',\n",
    "             vmin=-0.2, vmax=1.2)\n",
    "  if version == 1:\n",
    "    plt.text(2, 1, '$+3$', ha='center', va='center', fontsize=12)\n",
    "    plt.text(1, 3, '$+1$', ha='center', va='center', fontsize=12)\n",
    "    plt.text(3, 5, '$+4$', ha='center', va='center', fontsize=12)\n",
    "  else:\n",
    "    plt.text(2, 1, '$+2$', ha='center', va='center', fontsize=12)\n",
    "    plt.text(1, 3, '$+1$', ha='center', va='center', fontsize=12)\n",
    "    plt.text(3, 5, '$+5$', ha='center', va='center', fontsize=12)\n",
    "  plt.text(2, 3, '$S$', ha='center', va='center', fontsize=12)\n",
    "  h, w = SMALL_GRID_LAYOUT.shape\n",
    "  for r in np.arange(0.5, h):\n",
    "    plt.plot([-0.5, w - 0.5], [r, r], '-k', lw=3, alpha=0.4)\n",
    "  for c in np.arange(0.5, w):\n",
    "    plt.plot([c, c], [-0.5, h - 0.5], '-k', lw=3, alpha=0.4)\n",
    "  plt.xticks([]); plt.yticks([]);"
   ]
  },
  {
   "cell_type": "markdown",
   "id": "6d2dc360",
   "metadata": {},
   "source": [
    "# Section 1: Tabular RL \n",
    "\n",
    "In this section, observations will be states in the environment, so the agent state, environment state, and observation will all be the same, and we will use the word `state` interchangably with `observation`.  You will implement agents, which should be in pure Python - so you cannot use JAX/TensorFlow/PyTorch to compute gradients. Using `numpy` is fine."
   ]
  },
  {
   "cell_type": "markdown",
   "id": "f607e974",
   "metadata": {},
   "source": [
    "## Q1: A small grid world\n",
    "\n",
    "Consider the grid MDP below:"
   ]
  },
  {
   "cell_type": "code",
   "execution_count": 23,
   "id": "d5463227",
   "metadata": {},
   "outputs": [
    {
     "data": {
      "image/png": "[encoded data removed]",
      "text/plain": [
       "<Figure size 432x288 with 1 Axes>"
      ]
     },
     "metadata": {},
     "output_type": "display_data"
    }
   ],
   "source": [
    "plot_small_grid()"
   ]
  },
  {
   "cell_type": "markdown",
   "id": "4e1b1efc",
   "metadata": {},
   "source": [
    "The agent starts at the state marked $S$, and  can move up, left, right, or down.  Whenever it enters a cell with a positive number, the agent receives that reward and the episode terminates.\n",
    "### Task 1\n",
    "Use the code below to plot the value of the optimal policy from the starting state, $v_*(S)$, as a function of the discount factor $\\gamma$."
   ]
  },
  {
   "cell_type": "code",
   "execution_count": 24,
   "id": "95b8a644",
   "metadata": {},
   "outputs": [
    {
     "data": {
      "image/png": "[encoded data removed]",
      "text/plain": [
       "<Figure size 432x288 with 1 Axes>"
      ]
     },
     "metadata": {
      "needs_background": "light"
     },
     "output_type": "display_data"
    }
   ],
   "source": [
    "def v(discount):    # v(s) = R + (r*R) + (r**2*R) + (r**3*R) + ... {r is a discount factor}\n",
    "  v_1 = 1   # From the starting point, move left one time and get reward +1\n",
    "  v_3 = 0 + discount * 3  # From the starting point, move upward two times and get reward +3\n",
    "  v_4 = 0 + 0 + discount**2 * 4   # From the starting point, move downwards two times and then right (3 time steps), then get reward +4\n",
    "  optimal_v = np.max([v_1, v_3, v_4])  # Optimal value function is maximum value among the three cases.\n",
    "  return optimal_v  \n",
    "\n",
    "# Don't change this function\n",
    "def plot_v():\n",
    "  discounts = np.arange(0, 1.001, 0.01)\n",
    "  plt.plot(discounts, [v(g) for g in discounts])\n",
    "  plt.xlabel('$\\gamma$')\n",
    "  plt.ylabel('$v_*(S)$')\n",
    "\n",
    "plot_v()"
   ]
  },
  {
   "cell_type": "markdown",
   "id": "7397c403",
   "metadata": {},
   "source": [
    "### Task 2\n",
    "\n",
    "Specify the optimal policy, as a function of $\\gamma$."
   ]
  },
  {
   "cell_type": "markdown",
   "id": "7ab5f9d6",
   "metadata": {},
   "source": [
    "### Answer\n",
    "\n",
    ">The optimal value function can be provided when the optimal policy is applied and the above figure shows the relation between a state-value function and discount factor. This figure illustrates which direction the system moves depending on the discount factor and can finally find the optimal policy. As shown the above figure, the optimal policy has 3 different cases: \n",
    "\n",
    "> - The optimal state-value function ($v_*(S)$) is 1 when the discount factor ($\\gamma$) is between 0 and approximately 0.35. This means that the system moves the left hand side (<-) to get reward +1 from the starting point (S) when the discount factor ($\\gamma$) is between 0 and 0.35.\n",
    "\n",
    "> - The optimal state-value function ($v_*(S)$) goes to approximately 3 when the discount factor ($\\gamma$) is between 0.35 and 0.79. This means that the system moves upwards to get reward +3 from the starting point (S) when the discount factor ($\\gamma$) is between 0.35 and 0.79. \n",
    "\n",
    "> - The optimal state-value function ($v_*(S)$) rapidly changes from 2.xx to 4 when the discount factor ($\\gamma$) is between 0.79 and 1. This means that the system moves upward before and immediately changes downward to get reward +4 when the discount factor ($\\gamma$) is between 0.79 and 1. \n",
    "\n",
    "> Therefore, we can prove that the optimal policy depends on the discount factor ($\\gamma$) and it can be represented as follow:\n",
    "\n",
    "$$ \\pi_*(S) = move \\_ left \\implies Reward +1 : \\gamma \\in [0, 0.35] $$\n",
    "\n",
    "$$ \\pi_*(S) = move \\_ upwards \\implies Reward +3 : \\gamma \\in [0.35, 0.79] $$\n",
    "\n",
    "$$ \\pi_*(S) = move \\_ downwards/right \\implies Reward +4 : \\gamma \\in [0.79, 1] $$ "
   ]
  },
  {
   "cell_type": "markdown",
   "id": "ac3131e7",
   "metadata": {},
   "source": [
    "### Task 3\n",
    "Consider the variation of this problem shown in the next plot."
   ]
  },
  {
   "cell_type": "code",
   "execution_count": 25,
   "id": "169ed867",
   "metadata": {},
   "outputs": [
    {
     "data": {
      "image/png": "[encoded data removed]",
      "text/plain": [
       "<Figure size 432x288 with 1 Axes>"
      ]
     },
     "metadata": {},
     "output_type": "display_data"
    }
   ],
   "source": [
    "plot_small_grid(version=2)"
   ]
  },
  {
   "cell_type": "markdown",
   "id": "407510ba",
   "metadata": {},
   "source": [
    "Suppose a behavioural scientist was doing an experiment where they gave rewards to an animal.  Suppose the setting was as depicted above, where the rewards for instance correspond to food or some other kind of treat (e.g., 5 food pellets at the location marked $+5$). It turns out that, after repeatedly exploring the grid, the animal seems to prefer going up to the reward of $+2$.\n",
    "\n",
    "Prove that in the MDP depicted above no scalar discount $\\gamma \\in [0, 1]$ exists for which the optimal policy is to go to $+2$."
   ]
  },
  {
   "cell_type": "code",
   "execution_count": 26,
   "id": "93ea5889",
   "metadata": {},
   "outputs": [
    {
     "data": {
      "image/png": "[encoded data removed]",
      "text/plain": [
       "<Figure size 432x288 with 1 Axes>"
      ]
     },
     "metadata": {
      "needs_background": "light"
     },
     "output_type": "display_data"
    }
   ],
   "source": [
    "def v(discount):    # v(s) = R + (R * r) + (R * (r**2)) + (R * (r**3)) + ... {r is a discount factor}\n",
    "  v_1 = 1   # From the starting point, move left one time and get reward +1\n",
    "  v_2 = 0 + 2 * discount  # From the starting point, move upward two times and get reward +2\n",
    "  v_5 = 0 + 0 + 5 * (discount**2)  # From the starting point, move downwards two times and then right (3 time steps), then get reward +5\n",
    "  optimal_v = np.max([v_1, v_2, v_5])  # Optimal value function is maximum value among the three cases.\n",
    "  return optimal_v  \n",
    "\n",
    "# Don't change this function\n",
    "def plot_v():\n",
    "  discounts = np.arange(0, 1.001, 0.01)\n",
    "  plt.plot(discounts, [v(g) for g in discounts])\n",
    "  plt.xlabel('$\\gamma$')\n",
    "  plt.ylabel('$v_*(S)$')\n",
    "\n",
    "plot_v()"
   ]
  },
  {
   "cell_type": "markdown",
   "id": "46a935c6",
   "metadata": {},
   "source": [
    "### Answer\n",
    "\n",
    "> As mentioned the above question 1.2, the optimal policy depends on the discount factor ($\\gamma$). The figure shows that the state-value function remains to move the shortest path, which is reward +1 (1 food pellet) when the discount factor ($\\gamma$) is between 0 and 0.42. After that, the state-value function directly goes to reward +5 (5 food pellets) when the discount factor ($\\gamma$) is after 0.42. This means that the policy does not take moving upward in the Markov decision process (MDP). Therefore, we can prove that the figure represents no scalar discount $\\gamma \\in [0, 1]$ exists for which the optimal policy is to go to reward +2 (2 food pellets) so that the optimal policy can be represented as follow: \n",
    "\n",
    "$$ \\pi_*(S) = move \\_ left \\implies Reward +1 : \\gamma \\in [0, 0.42] $$\n",
    "\n",
    "$$ \\pi_*(S) = move \\_ downwards/right \\implies Reward +5 : \\gamma \\in [0.42, 1] $$"
   ]
  },
  {
   "cell_type": "markdown",
   "id": "88b233c3",
   "metadata": {},
   "source": [
    "### Task 4\n",
    "In the same setting as the previous question, now consider the following generalised definition of a Monte Carlo return\n",
    "\\begin{align*}\n",
    "G_t\n",
    "& = R_{t+1} + f(R_{t+2} + f(R_{t+3} + f(\\ldots))) \\\\\n",
    "& = R_{t+1} + f(G_{t+1}) \\,,\n",
    "\\end{align*}\n",
    "In this formulation, we get standard discounting when we define $f(x) = \\gamma x$. Consider the following alternative where instead of multiplying with a factor $\\gamma$, we raise the value to the power: $f(x) = x^\\gamma$.  Does this mathematical model better explain the observed behaviour, in the sense that a $\\gamma$ exists for which the optimal policy goes to $+2$?  If so, give such a value for $\\gamma$, and prove that the policy of going to $+2$ is optimal with that choice.  If not, prove that no such $\\gamma$ exists."
   ]
  },
  {
   "cell_type": "code",
   "execution_count": 27,
   "id": "0b760689",
   "metadata": {},
   "outputs": [
    {
     "data": {
      "image/png": "[encoded data removed]",
      "text/plain": [
       "<Figure size 432x288 with 1 Axes>"
      ]
     },
     "metadata": {
      "needs_background": "light"
     },
     "output_type": "display_data"
    }
   ],
   "source": [
    "def v(discount):    # v(s) = R + (R^r) + (R^(r^2)) + (R^(r^3)) + ... {r is a discount factor}\n",
    "  v_1 = 1   # From the starting point, move left one time and get reward +1\n",
    "  v_2 = 0 + 2**discount  # From the starting point, move upward two times and get reward +2\n",
    "  v_5 = 0 + 0 + 5**(discount**2)  # From the starting point, move downwards two times and then right (3 time steps), then get reward +5\n",
    "  optimal_v = np.max([v_1, v_2, v_5])  # Optimal value function is maximum value among the three cases.\n",
    "  return optimal_v  \n",
    "\n",
    "# Don't change this function\n",
    "def plot_v():\n",
    "  discounts = np.arange(0, 1.001, 0.01)\n",
    "  plt.plot(discounts, [v(g) for g in discounts])\n",
    "  plt.xlabel('$\\gamma$')\n",
    "  plt.ylabel('$v_*(S)$')\n",
    "\n",
    "plot_v()"
   ]
  },
  {
   "cell_type": "markdown",
   "id": "764686ef",
   "metadata": {},
   "source": [
    "### Answer\n",
    "\n",
    "> This figure shows the state-value function using the generalised definition of a Monte Carlo return, which is used the discounting value $f(x) = x^{\\gamma}$ and we already proved that the optimal policy depends on the discount factor ($\\gamma$) in the above question.\n",
    "\n",
    "> - When the state-value function goes to get reward +1, the mathematical model of return can be represented as follow:\n",
    "$$G_t = R_{t+1} = 1$$\n",
    "> - When the state-value function goes to get reward +2, the mathematical model of return can be represented as follow:\n",
    "$$ G_t = R_{t+1} + f(R_{t+2}) $$\n",
    "\n",
    "$$ G_t = R_{t+1} + (R_{t+2})^{\\gamma} $$\n",
    "\n",
    "$$ G_t = 0 + (R_{t+2})^{\\gamma} = 2^{\\gamma} $$\n",
    "> - When the state-value function goes to get reward +5, the mathmatical model of return can be represented as follow:\n",
    "$$ G_t = R_{t+1} + f(R_{t+2} + f(R_{t+3})) $$\n",
    "\n",
    "$$ G_t = R_{t+1} + f(R_{t+2} + (R_{t+3})^{\\gamma}) $$\n",
    "\n",
    "$$ G_t = 0 + f(0 + (R_{t+3})^{\\gamma}) = f((R_{t+3})^{\\gamma})$$\n",
    "\n",
    "$$ G_t =  ((R_{t+3})^{\\gamma})^{\\gamma}) = ((R_{t+3})^{\\gamma^2}) = 5^{\\gamma^2}$$\n",
    "\n",
    "> As shown the figure, the state-value function goes to reward +2 when the discount factor ($\\gamma$) is between 0 and approximately 0.42. After that, the state-value function changes to go to reward +5 when the discount factor ($\\gamma$) is between 0.42 and 1. Therefore, the optimal policy is moving upward to get reward +2 and the discount factor exists $\\gamma \\in [0, 0.42]$ when the gerneralised definition of a Monte Carlo return using $f(x) = x^\\gamma$ is used.\n",
    "\n",
    "$$ \\pi_*(S) = move \\_ upwards \\implies Reward +2 : \\gamma \\in [0, 0.42] $$\n",
    "\n",
    "$$ \\pi_*(S) = move \\_ downwards/right \\implies Reward +5 : \\gamma \\in [0.42, 1] $$"
   ]
  },
  {
   "cell_type": "code",
   "execution_count": null,
   "id": "0b576a23",
   "metadata": {},
   "outputs": [],
   "source": []
  }
 ],
 "metadata": {
  "kernelspec": {
   "display_name": "Python 3",
   "language": "python",
   "name": "python3"
  },
  "language_info": {
   "codemirror_mode": {
    "name": "ipython",
    "version": 3
   },
   "file_extension": ".py",
   "mimetype": "text/x-python",
   "name": "python",
   "nbconvert_exporter": "python",
   "pygments_lexer": "ipython3",
   "version": "3.8.8"
  }
 },
 "nbformat": 4,
 "nbformat_minor": 5
}
