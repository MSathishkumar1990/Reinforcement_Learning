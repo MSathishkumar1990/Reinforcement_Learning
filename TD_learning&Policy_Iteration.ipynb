{
 "cells": [
  {
   "cell_type": "markdown",
   "id": "c608d91b",
   "metadata": {},
   "source": [
    "# REINFORCEMENT LEARNING\n",
    "\n",
    "### Author: Hyungjoo Kim\n",
    "\n",
    "##### All data was provided by University College London, Department of Computer Science, Reinforcement Learning Module\n",
    "\n",
    "##### Supervisor: Prof. Hado Van Hasselt, Matteo Hessel, and Diana Borsa"
   ]
  },
  {
   "cell_type": "markdown",
   "id": "4e368ed5",
   "metadata": {},
   "source": [
    "**Context**\n",
    "\n",
    "In this assignment, we will take a first look at learning algorithms for sequential decision problems.\n",
    "\n",
    "**Background reading**\n",
    "\n",
    "* Sutton and Barto (2018), Chapters 3 - 6\n",
    "\n",
    "**Overview of this assignment**\n",
    "\n",
    "You will use Python to implement several reinforcement learning algorithms.\n",
    "\n",
    "You will then run these algorithms on a few problems, to understand their properties."
   ]
  },
  {
   "cell_type": "markdown",
   "id": "1901499a",
   "metadata": {},
   "source": [
    "# Setup\n",
    "\n",
    "### Import Useful Libraries"
   ]
  },
  {
   "cell_type": "code",
   "execution_count": 1,
   "id": "0f2bfeb5",
   "metadata": {},
   "outputs": [],
   "source": [
    "import matplotlib.collections as mcoll\n",
    "import matplotlib.path as mpa\n",
    "import matplotlib.pyplot as plt\n",
    "import numpy as np\n",
    "from collections import namedtuple"
   ]
  },
  {
   "cell_type": "markdown",
   "id": "900525bf",
   "metadata": {},
   "source": [
    "### Set options"
   ]
  },
  {
   "cell_type": "code",
   "execution_count": 2,
   "id": "46077464",
   "metadata": {},
   "outputs": [],
   "source": [
    "np.set_printoptions(precision=3, suppress=1)\n",
    "plt.style.use('seaborn-colorblind')"
   ]
  },
  {
   "cell_type": "markdown",
   "id": "bd86853c",
   "metadata": {},
   "source": [
    "### Some grid worlds"
   ]
  },
  {
   "cell_type": "code",
   "execution_count": 3,
   "id": "b02ffe00",
   "metadata": {},
   "outputs": [],
   "source": [
    "W = -100  # wall\n",
    "G = 100  # goal\n",
    "\n",
    "GRID_LAYOUT = np.array([\n",
    "  [W, W, W, W, W, W, W, W, W, W, W, W],\n",
    "  [W, W, 0, W, W, W, W, W, W, 0, W, W],\n",
    "  [W, 0, 0, 0, 0, 0, 0, 0, 0, G, 0, W],\n",
    "  [W, 0, 0, 0, W, W, W, W, 0, 0, 0, W],\n",
    "  [W, 0, 0, 0, W, W, W, W, 0, 0, 0, W],\n",
    "  [W, 0, 0, 0, 0, 0, 0, 0, 0, 0, 0, W],\n",
    "  [W, 0, 0, 0, 0, 0, 0, 0, 0, 0, 0, W],\n",
    "  [W, W, 0, 0, 0, 0, 0, 0, 0, 0, W, W],\n",
    "  [W, W, W, W, W, W, W, W, W, W, W, W]\n",
    "])\n",
    "\n",
    "class Grid(object):\n",
    "\n",
    "  def __init__(self, noisy=False):\n",
    "    # -1: wall\n",
    "    # 0: empty, episode continues\n",
    "    # other: number indicates reward, episode will terminate\n",
    "    self._layout = GRID_LAYOUT\n",
    "    self._start_state = (2, 2)\n",
    "    self._state = self._start_state\n",
    "    self._number_of_states = np.prod(np.shape(self._layout))\n",
    "    self._noisy = noisy\n",
    "\n",
    "  @property\n",
    "  def number_of_states(self):\n",
    "      return self._number_of_states\n",
    "\n",
    "  def get_obs(self):\n",
    "    y, x = self._state\n",
    "    return y*self._layout.shape[1] + x\n",
    "\n",
    "  def obs_to_state(self, obs):\n",
    "    x = obs % self._layout.shape[1]\n",
    "    y = obs // self._layout.shape[1]\n",
    "    s = np.copy(grid._layout)\n",
    "    s[y, x] = 4\n",
    "    return s\n",
    "\n",
    "  def step(self, action):\n",
    "    y, x = self._state\n",
    "    \n",
    "    if action == 0:  # up\n",
    "      new_state = (y - 1, x)\n",
    "    elif action == 1:  # right\n",
    "      new_state = (y, x + 1)\n",
    "    elif action == 2:  # down\n",
    "      new_state = (y + 1, x)\n",
    "    elif action == 3:  # left\n",
    "      new_state = (y, x - 1)\n",
    "    else:\n",
    "      raise ValueError(\"Invalid action: {} is not 0, 1, 2, or 3.\".format(action))\n",
    "\n",
    "    new_y, new_x = new_state\n",
    "    reward = self._layout[new_y, new_x]\n",
    "    if self._layout[new_y, new_x] == W:  # wall\n",
    "      discount = 0.9\n",
    "      new_state = (y, x)\n",
    "    elif self._layout[new_y, new_x] == 0:  # empty cell\n",
    "      reward = -1.\n",
    "      discount = 0.9\n",
    "    else:  # a goal\n",
    "      discount = 0.\n",
    "      new_state = self._start_state\n",
    "\n",
    "    if self._noisy:\n",
    "      width = self._layout.shape[1]\n",
    "      reward += 10*np.random.normal(0, width - new_x + new_y)\n",
    "\n",
    "    self._state = new_state\n",
    "    return reward, discount, self.get_obs()\n",
    "\n",
    "  def plot_grid(self):\n",
    "    plt.figure(figsize=(4, 4))\n",
    "    plt.imshow(self._layout != W, interpolation=\"nearest\", cmap='pink')\n",
    "    plt.gca().grid(0)\n",
    "    plt.xticks([])\n",
    "    plt.yticks([])\n",
    "    plt.title(\"The grid\")\n",
    "    plt.text(2, 2, r\"$\\mathbf{S}$\", ha='center', va='center')\n",
    "    plt.text(9, 2, r\"$\\mathbf{G}$\", ha='center', va='center')\n",
    "    h, w = self._layout.shape\n",
    "    for y in range(h-1):\n",
    "      plt.plot([-0.5, w-0.5], [y+0.5, y+0.5], '-k', lw=2)\n",
    "    for x in range(w-1):\n",
    "      plt.plot([x+0.5, x+0.5], [-0.5, h-0.5], '-k', lw=2)"
   ]
  },
  {
   "cell_type": "code",
   "execution_count": 4,
   "id": "b26764c0",
   "metadata": {},
   "outputs": [],
   "source": [
    "SMALL_GRID_LAYOUT = np.array([\n",
    "  [W, W, W, W, W],\n",
    "  [W, W, 3, W, W],\n",
    "  [W, W, 0, W, W],\n",
    "  [W, 1, 0, W, W],\n",
    "  [W, W, 0, W, W],\n",
    "  [W, W, 0, 4, W],\n",
    "  [W, W, W, W, W]\n",
    "])\n",
    "\n",
    "\n",
    "def plot_small_grid(version=1):\n",
    "  plt.imshow(SMALL_GRID_LAYOUT < -1, interpolation='nearest', cmap='pink_r',\n",
    "             vmin=-0.2, vmax=1.2)\n",
    "  if version == 1:\n",
    "    plt.text(2, 1, '$+3$', ha='center', va='center', fontsize=12)\n",
    "    plt.text(1, 3, '$+1$', ha='center', va='center', fontsize=12)\n",
    "    plt.text(3, 5, '$+4$', ha='center', va='center', fontsize=12)\n",
    "  else:\n",
    "    plt.text(2, 1, '$+2$', ha='center', va='center', fontsize=12)\n",
    "    plt.text(1, 3, '$+1$', ha='center', va='center', fontsize=12)\n",
    "    plt.text(3, 5, '$+5$', ha='center', va='center', fontsize=12)\n",
    "  plt.text(2, 3, '$S$', ha='center', va='center', fontsize=12)\n",
    "  h, w = SMALL_GRID_LAYOUT.shape\n",
    "  for r in np.arange(0.5, h):\n",
    "    plt.plot([-0.5, w - 0.5], [r, r], '-k', lw=3, alpha=0.4)\n",
    "  for c in np.arange(0.5, w):\n",
    "    plt.plot([c, c], [-0.5, h - 0.5], '-k', lw=3, alpha=0.4)\n",
    "  plt.xticks([]); plt.yticks([]);"
   ]
  },
  {
   "cell_type": "markdown",
   "id": "783c38a1",
   "metadata": {},
   "source": [
    "### Helper functions\n",
    "(You should not have to change, or even look at, these.  Do run the cell to make sure the functions are loaded though.)"
   ]
  },
  {
   "cell_type": "code",
   "execution_count": 10,
   "id": "52d2e406",
   "metadata": {},
   "outputs": [],
   "source": [
    "def run_experiment(env, agent, number_of_steps):\n",
    "    mean_reward = 0.\n",
    "    try:\n",
    "      action = agent.initial_action()\n",
    "    except AttributeError:\n",
    "      action = 0\n",
    "    for i in range(number_of_steps):\n",
    "      reward, discount, next_state = grid.step(action)\n",
    "      action = agent.step(reward, discount, next_state)\n",
    "      mean_reward += reward\n",
    "    return mean_reward/float(number_of_steps)\n",
    "\n",
    "map_from_action_to_subplot = lambda a: (2, 6, 8, 4)[a]\n",
    "map_from_action_to_name = lambda a: (\"up\", \"right\", \"down\", \"left\")[a]\n",
    "\n",
    "def plot_values(grid, values, colormap='pink', vmin=0, vmax=10):\n",
    "  plt.imshow(values - 1000*(grid<0), interpolation=\"nearest\", cmap=colormap, vmin=vmin, vmax=vmax)\n",
    "  plt.yticks([])\n",
    "  plt.xticks([])\n",
    "  plt.colorbar(ticks=[vmin, vmax])"
   ]
  },
  {
   "cell_type": "markdown",
   "id": "b61ccfd6",
   "metadata": {},
   "source": [
    "# Implementing algorithms\n",
    "\n",
    "**Minimal agent interface**:\n",
    "\n",
    "Each agent should implement the following methods:\n",
    "\n",
    "### `__init__(self, number_of_actions, number_of_states, initial_observation, ...)`:\n",
    "The constructor will provide the agent the number of actions, number of states, and the initial state. You can get the initial state by first instatiating an environment, using `grid = Grid()`, and then calling `grid.get_obs()`. The constructor may accept additional arguments (denoted here by the ellipsis `...`) depending on the specific algorithm implemented by the agent.\n",
    "\n",
    "### `step(self, reward, discount, next_state)`:\n",
    "\n",
    "The step method of an agent should update its internals, in whatever way is appropriate for its learning algorithm, and return a new action to be executed in the environment.\n",
    "\n",
    "When the discount is zero ($\\text{discount} = \\gamma = 0$), then the `next_state` will be the initial observation of the next episode.  One shouldn't bootstrap on the value of this state, which can simply be guaranteed when using \"$\\gamma \\cdot v(\\text{next_state})$\" in the update, because $\\gamma = 0$ (for whatever definition of $v$ is appropriate---for instance, $v(s)$ could be defined in terms of action values estimates that we are learning, for instance by $v(s) = \\max_a q(s, a)$).  Therefore, the end of an episode can be seamlessly handled with the same step function.\n",
    "\n",
    "**Note on the initial action**:\n",
    "\n",
    "Some algorithms (Q-learning, Sarsa) need to remember the last action in order to update its value when they see the next state and reward.  In the constructor (`__init__`), make sure you set the initial action to zero, e.g.,\n",
    "```\n",
    "def __init__(...):\n",
    "  (...)\n",
    "  self._last_action = 0\n",
    "  (...)\n",
    "```\n",
    "In our experiments the helper functions above will execute the action `0` (which corresponds to `up` in the grid world) as the initial action to begin the run loop of the experiment.  This initial action is only executed once, and the beginning of the very first episode---not at the beginning of each episode."
   ]
  },
  {
   "cell_type": "markdown",
   "id": "b4935bca",
   "metadata": {},
   "source": [
    "### A random agent\n",
    "\n",
    "Below we show a reference implementation of a simple random agent, implemented according to the interface above."
   ]
  },
  {
   "cell_type": "code",
   "execution_count": 11,
   "id": "9edc6fb2",
   "metadata": {},
   "outputs": [],
   "source": [
    "class Random(object):\n",
    "\n",
    "  def __init__(self, number_of_actions, number_of_states, initial_state):\n",
    "    self._number_of_actions = number_of_actions\n",
    "\n",
    "  def step(self, reward, discount, next_state):\n",
    "    next_action = np.random.randint(self._number_of_actions)\n",
    "    return next_action"
   ]
  },
  {
   "cell_type": "markdown",
   "id": "1310c783",
   "metadata": {},
   "source": [
    "### The grid\n",
    "\n",
    "The cell below shows the `Grid` environment that we will use in this section. Here `S` indicates the start state and `G` indicates the goal.  The agent has four possible actions: up, right, down, and left.  Rewards are: `-100` for bumping into a wall, `+100` for reaching the goal, and `-1` otherwise.  The episode ends when the agent reaches the goal, and otherwise continues.  The discount, on continuing steps, is $\\gamma = 0.9$.  Feel free to reference the implemetation of the `Grid` above, under the header \"a grid world\"."
   ]
  },
  {
   "cell_type": "code",
   "execution_count": 12,
   "id": "f93f1e24",
   "metadata": {},
   "outputs": [
    {
     "data": {
      "image/png": "[encoded data removed]",
      "text/plain": [
       "<Figure size 288x288 with 1 Axes>"
      ]
     },
     "metadata": {},
     "output_type": "display_data"
    }
   ],
   "source": [
    "grid = Grid()\n",
    "grid.plot_grid()"
   ]
  },
  {
   "cell_type": "markdown",
   "id": "1f3fb6f4",
   "metadata": {},
   "source": [
    "\n",
    "## Task 1 - Implement TD Learning\n",
    "Implement an agent that acts randomly, and _on-policy_ estimates state values $v(s)$, using one-step TD learning with step size $\\alpha=0.1$.\n",
    "\n",
    "In addition to the base interface, also implement a property `state_values(self)` returning the vector of all state values (one value per state).\n",
    "\n",
    "You should be able to use the `__init__` as provided below, so you just have to implement the `step` function.  We store the initial state in the constructor because you need its value on the first `step` in order to compute the TD error when the first transition has occurred.  \n",
    "\n",
    "**Hint**: in the `step` you similarly will want to store the previous state to be able to compute the next TD error on the next step."
   ]
  },
  {
   "cell_type": "code",
   "execution_count": 15,
   "id": "d7f480fd",
   "metadata": {},
   "outputs": [],
   "source": [
    "class RandomTD(object):\n",
    "\n",
    "  def __init__(self, number_of_states, number_of_actions, initial_state, step_size=0.1):\n",
    "    self._values = np.zeros(number_of_states)\n",
    "    self._state = initial_state\n",
    "    self._number_of_actions = number_of_actions\n",
    "    self._step_size = step_size\n",
    "\n",
    "  @property\n",
    "  def state_values(self):\n",
    "    return self._values\n",
    "\n",
    "  def step(self, reward, discount, next_state):\n",
    "    ''' Reference = Lecture 5: Model-Free Prediction page 28'''\n",
    "    # self._values[self._state] = q(s, a), which is state-action value function\n",
    "    self._values[self._state] = self._values[self._state] + self._step_size * (reward + discount * (self._values[next_state]) - self._values[self._state])\n",
    "    self._state = next_state  # update new state as the next state\n",
    "    \n",
    "    # This system implement randomly, so it's a random TD learning\n",
    "    next_action = np.random.randint(self._number_of_actions)\n",
    "    return next_action"
   ]
  },
  {
   "cell_type": "markdown",
   "id": "61a57ece",
   "metadata": {},
   "source": [
    "### Run the next cell to run the `RandomTD` agent on a grid world.\n",
    "\n",
    "If everything worked as expected, the plot below will show the estimates state values under the random policy. This includes values for unreachable states --- on the walls and on the goal (we never actually reach the goal --- rather, the episode terminates on the transition to the goal.  The values on the walls and goal are, and will always remain, zero (shown in orange below)."
   ]
  },
  {
   "cell_type": "code",
   "execution_count": 18,
   "id": "28447971",
   "metadata": {},
   "outputs": [
    {
     "data": {
      "image/png": "[encoded data removed]",
      "text/plain": [
       "<Figure size 432x288 with 2 Axes>"
      ]
     },
     "metadata": {
      "needs_background": "light"
     },
     "output_type": "display_data"
    }
   ],
   "source": [
    "# Do not modify this cell.\n",
    "agent = RandomTD(grid._layout.size, 4, grid.get_obs())\n",
    "run_experiment(grid, agent, int(1e5))\n",
    "v = agent.state_values\n",
    "plot_values(GRID_LAYOUT, v.reshape(grid._layout.shape), colormap=\"hot\", vmin=-300, vmax=100)"
   ]
  },
  {
   "cell_type": "markdown",
   "id": "1452ff00",
   "metadata": {},
   "source": [
    "## Task 2 - Policy iteration \n",
    "We used TD to do policy evaluation for the random policy on this problem.  Consider doing policy improvement, by taking the greedy policy with respect to a one-step look-ahead.  For this, you may assume we have a true model, so for each state and for each action we can look at the value of the resulting state, and would then pick the action with the highest reward plus subsequent state value. In other words, you can assume we can use $q(s, a) = \\mathbb{E}[ R_{t+1} + \\gamma v(S_{t+1}) \\mid S_t = s, A_t = a]$, where $v$ is the value function learned by TD as implemented. Then we consider the policy that picks the action with the highest action value $q(s, a)$. You do **not** have to implement this, just answer the following question.\n",
    "\n",
    "The above amounts to performing an iteration of policy evaluation and policy improvement.  If we repeat this process over and over again, and repeatedly evaluate the greedy policy and then perform an improvement step by picking the greedy policy, would the policy eventually become optimal?  Explain why or why not in at most three sentences.\n",
    "\n",
    "> In the policy iteration of policy evaluation and improvement situation, there is a possibility that the greedy policy can continue to select an action if the average reward gradually increases but not significantly. This is because the agent does not properly recognise the value of the reward where it is a higher reward in some cases. Therefore, the greedy policy does not take into account exploration so that the policy is eventually not optimal."
   ]
  },
  {
   "cell_type": "code",
   "execution_count": null,
   "id": "8851510d",
   "metadata": {},
   "outputs": [],
   "source": []
  }
 ],
 "metadata": {
  "kernelspec": {
   "display_name": "Python 3",
   "language": "python",
   "name": "python3"
  },
  "language_info": {
   "codemirror_mode": {
    "name": "ipython",
    "version": 3
   },
   "file_extension": ".py",
   "mimetype": "text/x-python",
   "name": "python",
   "nbconvert_exporter": "python",
   "pygments_lexer": "ipython3",
   "version": "3.8.8"
  }
 },
 "nbformat": 4,
 "nbformat_minor": 5
}
